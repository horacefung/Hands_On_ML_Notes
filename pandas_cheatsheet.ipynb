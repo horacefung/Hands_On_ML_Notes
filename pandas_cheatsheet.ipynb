{
 "cells": [
  {
   "cell_type": "code",
   "execution_count": 171,
   "metadata": {},
   "outputs": [],
   "source": [
    "import pandas as pd\n",
    "import numpy as np"
   ]
  },
  {
   "cell_type": "code",
   "execution_count": 2,
   "metadata": {},
   "outputs": [],
   "source": [
    "iris = pd.read_csv('https://raw.githubusercontent.com/mwaskom/seaborn-data/master/iris.csv')"
   ]
  },
  {
   "cell_type": "code",
   "execution_count": 9,
   "metadata": {},
   "outputs": [
    {
     "data": {
      "text/html": [
       "<div>\n",
       "<style scoped>\n",
       "    .dataframe tbody tr th:only-of-type {\n",
       "        vertical-align: middle;\n",
       "    }\n",
       "\n",
       "    .dataframe tbody tr th {\n",
       "        vertical-align: top;\n",
       "    }\n",
       "\n",
       "    .dataframe thead th {\n",
       "        text-align: right;\n",
       "    }\n",
       "</style>\n",
       "<table border=\"1\" class=\"dataframe\">\n",
       "  <thead>\n",
       "    <tr style=\"text-align: right;\">\n",
       "      <th></th>\n",
       "      <th>sepal_length</th>\n",
       "      <th>sepal_width</th>\n",
       "      <th>petal_length</th>\n",
       "      <th>petal_width</th>\n",
       "      <th>species</th>\n",
       "    </tr>\n",
       "  </thead>\n",
       "  <tbody>\n",
       "    <tr>\n",
       "      <th>0</th>\n",
       "      <td>5.1</td>\n",
       "      <td>3.5</td>\n",
       "      <td>1.4</td>\n",
       "      <td>0.2</td>\n",
       "      <td>setosa</td>\n",
       "    </tr>\n",
       "    <tr>\n",
       "      <th>1</th>\n",
       "      <td>4.9</td>\n",
       "      <td>3.0</td>\n",
       "      <td>1.4</td>\n",
       "      <td>0.2</td>\n",
       "      <td>setosa</td>\n",
       "    </tr>\n",
       "    <tr>\n",
       "      <th>2</th>\n",
       "      <td>4.7</td>\n",
       "      <td>3.2</td>\n",
       "      <td>1.3</td>\n",
       "      <td>0.2</td>\n",
       "      <td>setosa</td>\n",
       "    </tr>\n",
       "  </tbody>\n",
       "</table>\n",
       "</div>"
      ],
      "text/plain": [
       "   sepal_length  sepal_width  petal_length  petal_width species\n",
       "0           5.1          3.5           1.4          0.2  setosa\n",
       "1           4.9          3.0           1.4          0.2  setosa\n",
       "2           4.7          3.2           1.3          0.2  setosa"
      ]
     },
     "execution_count": 9,
     "metadata": {},
     "output_type": "execute_result"
    }
   ],
   "source": [
    "iris.head(3)"
   ]
  },
  {
   "cell_type": "code",
   "execution_count": 10,
   "metadata": {},
   "outputs": [
    {
     "data": {
      "text/plain": [
       "{'setosa', 'versicolor', 'virginica'}"
      ]
     },
     "execution_count": 10,
     "metadata": {},
     "output_type": "execute_result"
    }
   ],
   "source": [
    "set(iris['species'])"
   ]
  },
  {
   "cell_type": "markdown",
   "metadata": {},
   "source": [
    "## 1. Subset Data"
   ]
  },
  {
   "cell_type": "code",
   "execution_count": 23,
   "metadata": {},
   "outputs": [],
   "source": [
    "output = iris[iris['sepal_length'] > 5.0]\n",
    "output = iris[(iris['sepal_length'] > 5.0) & (iris['species'] == 'versicolor')]\n",
    "output = iris[(iris['sepal_length'] > 5.0) & (iris['species'] != 'versicolor')]\n",
    "output = iris[(iris['sepal_length'] > 5.0) & (~iris['species'].isin(['versicolor', 'setosa']))]"
   ]
  },
  {
   "cell_type": "code",
   "execution_count": 95,
   "metadata": {},
   "outputs": [],
   "source": [
    "output = iris.sample(frac=0.5) # randomly sample 50% of rows\n",
    "output = iris.sample(n=50) # randomly sample 50 rows\n",
    "output = iris.nlargest(10, 'sepal_length') # 10 largest in sepal length\n",
    "output = iris.nsmallest(10, 'sepal_length') # 10 smallest by sepal length"
   ]
  },
  {
   "cell_type": "markdown",
   "metadata": {},
   "source": [
    "### loc vs iloc"
   ]
  },
  {
   "cell_type": "code",
   "execution_count": 47,
   "metadata": {},
   "outputs": [
    {
     "data": {
      "text/html": [
       "<div>\n",
       "<style scoped>\n",
       "    .dataframe tbody tr th:only-of-type {\n",
       "        vertical-align: middle;\n",
       "    }\n",
       "\n",
       "    .dataframe tbody tr th {\n",
       "        vertical-align: top;\n",
       "    }\n",
       "\n",
       "    .dataframe thead th {\n",
       "        text-align: right;\n",
       "    }\n",
       "</style>\n",
       "<table border=\"1\" class=\"dataframe\">\n",
       "  <thead>\n",
       "    <tr style=\"text-align: right;\">\n",
       "      <th></th>\n",
       "      <th>petal_width</th>\n",
       "      <th>species</th>\n",
       "    </tr>\n",
       "  </thead>\n",
       "  <tbody>\n",
       "    <tr>\n",
       "      <th>1</th>\n",
       "      <td>0.2</td>\n",
       "      <td>setosa</td>\n",
       "    </tr>\n",
       "    <tr>\n",
       "      <th>2</th>\n",
       "      <td>0.2</td>\n",
       "      <td>setosa</td>\n",
       "    </tr>\n",
       "    <tr>\n",
       "      <th>3</th>\n",
       "      <td>0.2</td>\n",
       "      <td>setosa</td>\n",
       "    </tr>\n",
       "    <tr>\n",
       "      <th>4</th>\n",
       "      <td>0.2</td>\n",
       "      <td>setosa</td>\n",
       "    </tr>\n",
       "  </tbody>\n",
       "</table>\n",
       "</div>"
      ],
      "text/plain": [
       "   petal_width species\n",
       "1          0.2  setosa\n",
       "2          0.2  setosa\n",
       "3          0.2  setosa\n",
       "4          0.2  setosa"
      ]
     },
     "execution_count": 47,
     "metadata": {},
     "output_type": "execute_result"
    }
   ],
   "source": [
    "# loc vs iloc\n",
    "# label-location-based vs integer-location-based\n",
    "\n",
    "# iris.loc['row_label', 'column_label']\n",
    "# iris.iloc[row_position, column_position]\n",
    "\n",
    "# --- loc ---- #\n",
    "# Single column\n",
    "iris.loc[:, 'sepal_length']\n",
    "\n",
    "# Multiple columns\n",
    "iris.loc[:, ['sepal_length', 'species']]\n",
    "\n",
    "# Single row; you don't necessarily need to wrap with a list, but this will perserve\n",
    "# df format\n",
    "iris.loc[1, :]\n",
    "iris.loc[[1], :]\n",
    "\n",
    "# Multiple rows\n",
    "iris.loc[1:3, :]\n",
    "\n",
    "# Rows + Column selection\n",
    "iris.loc[1:3, ['sepal_length', 'species']]\n",
    "\n",
    "# ---- iloc ------ #\n",
    "# Single column\n",
    "iris.iloc[:, 3]\n",
    "\n",
    "# Multiple columns\n",
    "iris.iloc[:, 3:5]\n",
    "\n",
    "# Single row\n",
    "iris.iloc[1, :]\n",
    "\n",
    "# Multiple rows\n",
    "iris.iloc[1:5, :]\n",
    "\n",
    "# Multiple rows and columns\n",
    "iris.iloc[1:5, 3:5]"
   ]
  },
  {
   "cell_type": "code",
   "execution_count": 92,
   "metadata": {},
   "outputs": [
    {
     "data": {
      "text/html": [
       "<div>\n",
       "<style scoped>\n",
       "    .dataframe tbody tr th:only-of-type {\n",
       "        vertical-align: middle;\n",
       "    }\n",
       "\n",
       "    .dataframe tbody tr th {\n",
       "        vertical-align: top;\n",
       "    }\n",
       "\n",
       "    .dataframe thead th {\n",
       "        text-align: right;\n",
       "    }\n",
       "</style>\n",
       "<table border=\"1\" class=\"dataframe\">\n",
       "  <thead>\n",
       "    <tr style=\"text-align: right;\">\n",
       "      <th></th>\n",
       "      <th>petal_width</th>\n",
       "      <th>species</th>\n",
       "    </tr>\n",
       "  </thead>\n",
       "  <tbody>\n",
       "    <tr>\n",
       "      <th>43</th>\n",
       "      <td>0.6</td>\n",
       "      <td>walrus</td>\n",
       "    </tr>\n",
       "  </tbody>\n",
       "</table>\n",
       "</div>"
      ],
      "text/plain": [
       "    petal_width species\n",
       "43          0.6  walrus"
      ]
     },
     "execution_count": 92,
     "metadata": {},
     "output_type": "execute_result"
    }
   ],
   "source": [
    "# Data.table like filtering with loc\n",
    "iris.loc[iris['petal_width'] > 0.7, ['petal_length','species']]\n",
    "\n",
    "# Replacing data aka dt[x1 > 10, ':=' (x3 = 'replace_string')]\n",
    "output = iris.copy()\n",
    "output.loc[((output['petal_width'] > 0.5) & (output['species'] == 'setosa')), 'species'] = 'walrus'\n",
    "output.loc[(output['petal_width'] > 0.5) & (output['species'] == 'walrus'), ['petal_width','species']]"
   ]
  },
  {
   "cell_type": "markdown",
   "metadata": {},
   "source": [
    "## 2. Group by --  (aggregations + Summary functions) & (window functions)"
   ]
  },
  {
   "cell_type": "code",
   "execution_count": 110,
   "metadata": {},
   "outputs": [
    {
     "name": "stdout",
     "output_type": "stream",
     "text": [
      "0.25    5.1\n",
      "0.75    6.4\n",
      "Name: sepal_length, dtype: float64\n"
     ]
    },
    {
     "data": {
      "text/plain": [
       "0.8280661279778629"
      ]
     },
     "execution_count": 110,
     "metadata": {},
     "output_type": "execute_result"
    }
   ],
   "source": [
    "# Summary functions in pandas\n",
    "# Sum\n",
    "iris['sepal_length'].sum()\n",
    "\n",
    "# Count excluding Na and NULL (alternative to length)\n",
    "iris['sepal_length'].count()\n",
    "\n",
    "# Median\n",
    "iris['sepal_length'].median()\n",
    "\n",
    "# Quantile, get the specific break points\n",
    "print(iris['sepal_length'].quantile([0.25, 0.75]))\n",
    "\n",
    "# Min, Max\n",
    "iris['sepal_length'].min()\n",
    "iris['sepal_length'].max()\n",
    "\n",
    "# Mean\n",
    "iris['sepal_length'].mean()\n",
    "\n",
    "# Variance\n",
    "iris['sepal_length'].var()\n",
    "\n",
    "# Stddev\n",
    "iris['sepal_length'].std()\n"
   ]
  },
  {
   "cell_type": "code",
   "execution_count": 113,
   "metadata": {},
   "outputs": [
    {
     "data": {
      "text/html": [
       "<div>\n",
       "<style scoped>\n",
       "    .dataframe tbody tr th:only-of-type {\n",
       "        vertical-align: middle;\n",
       "    }\n",
       "\n",
       "    .dataframe tbody tr th {\n",
       "        vertical-align: top;\n",
       "    }\n",
       "\n",
       "    .dataframe thead th {\n",
       "        text-align: right;\n",
       "    }\n",
       "</style>\n",
       "<table border=\"1\" class=\"dataframe\">\n",
       "  <thead>\n",
       "    <tr style=\"text-align: right;\">\n",
       "      <th></th>\n",
       "      <th>sepal_length</th>\n",
       "      <th>sepal_width</th>\n",
       "      <th>petal_length</th>\n",
       "      <th>petal_width</th>\n",
       "    </tr>\n",
       "    <tr>\n",
       "      <th>species</th>\n",
       "      <th></th>\n",
       "      <th></th>\n",
       "      <th></th>\n",
       "      <th></th>\n",
       "    </tr>\n",
       "  </thead>\n",
       "  <tbody>\n",
       "    <tr>\n",
       "      <th>setosa</th>\n",
       "      <td>0.352490</td>\n",
       "      <td>0.379064</td>\n",
       "      <td>0.173664</td>\n",
       "      <td>0.105386</td>\n",
       "    </tr>\n",
       "    <tr>\n",
       "      <th>versicolor</th>\n",
       "      <td>0.516171</td>\n",
       "      <td>0.313798</td>\n",
       "      <td>0.469911</td>\n",
       "      <td>0.197753</td>\n",
       "    </tr>\n",
       "    <tr>\n",
       "      <th>virginica</th>\n",
       "      <td>0.635880</td>\n",
       "      <td>0.322497</td>\n",
       "      <td>0.551895</td>\n",
       "      <td>0.274650</td>\n",
       "    </tr>\n",
       "  </tbody>\n",
       "</table>\n",
       "</div>"
      ],
      "text/plain": [
       "            sepal_length  sepal_width  petal_length  petal_width\n",
       "species                                                         \n",
       "setosa          0.352490     0.379064      0.173664     0.105386\n",
       "versicolor      0.516171     0.313798      0.469911     0.197753\n",
       "virginica       0.635880     0.322497      0.551895     0.274650"
      ]
     },
     "execution_count": 113,
     "metadata": {},
     "output_type": "execute_result"
    }
   ],
   "source": [
    "# Syntax is straightforward\n",
    "# df.groupby(by = 'col').fun()\n",
    "\n",
    "# Summation group by\n",
    "# Chain the groupby syntax and the summary functions above\n",
    "iris.groupby(by='species').sum()\n",
    "iris.groupby(by='species').std()"
   ]
  },
  {
   "cell_type": "code",
   "execution_count": 195,
   "metadata": {},
   "outputs": [
    {
     "data": {
      "text/html": [
       "<div>\n",
       "<style scoped>\n",
       "    .dataframe tbody tr th:only-of-type {\n",
       "        vertical-align: middle;\n",
       "    }\n",
       "\n",
       "    .dataframe tbody tr th {\n",
       "        vertical-align: top;\n",
       "    }\n",
       "\n",
       "    .dataframe thead th {\n",
       "        text-align: right;\n",
       "    }\n",
       "</style>\n",
       "<table border=\"1\" class=\"dataframe\">\n",
       "  <thead>\n",
       "    <tr style=\"text-align: right;\">\n",
       "      <th></th>\n",
       "      <th>species</th>\n",
       "      <th>sepal_mean</th>\n",
       "      <th>sepal_sum</th>\n",
       "    </tr>\n",
       "  </thead>\n",
       "  <tbody>\n",
       "    <tr>\n",
       "      <th>0</th>\n",
       "      <td>setosa</td>\n",
       "      <td>5.006</td>\n",
       "      <td>250.3</td>\n",
       "    </tr>\n",
       "    <tr>\n",
       "      <th>1</th>\n",
       "      <td>versicolor</td>\n",
       "      <td>5.936</td>\n",
       "      <td>296.8</td>\n",
       "    </tr>\n",
       "    <tr>\n",
       "      <th>2</th>\n",
       "      <td>virginica</td>\n",
       "      <td>6.588</td>\n",
       "      <td>329.4</td>\n",
       "    </tr>\n",
       "  </tbody>\n",
       "</table>\n",
       "</div>"
      ],
      "text/plain": [
       "      species  sepal_mean  sepal_sum\n",
       "0      setosa       5.006      250.3\n",
       "1  versicolor       5.936      296.8\n",
       "2   virginica       6.588      329.4"
      ]
     },
     "execution_count": 195,
     "metadata": {},
     "output_type": "execute_result"
    }
   ],
   "source": [
    "# Different aggregations\n",
    "test = iris.groupby(by='species').agg({\"sepal_length\": [np.mean, np.sum]}).reset_index()\n",
    "test.columns = ['species','sepal_mean', 'sepal_sum']\n",
    "test"
   ]
  },
  {
   "cell_type": "code",
   "execution_count": 197,
   "metadata": {},
   "outputs": [
    {
     "data": {
      "text/html": [
       "<div>\n",
       "<style scoped>\n",
       "    .dataframe tbody tr th:only-of-type {\n",
       "        vertical-align: middle;\n",
       "    }\n",
       "\n",
       "    .dataframe tbody tr th {\n",
       "        vertical-align: top;\n",
       "    }\n",
       "\n",
       "    .dataframe thead tr th {\n",
       "        text-align: left;\n",
       "    }\n",
       "</style>\n",
       "<table border=\"1\" class=\"dataframe\">\n",
       "  <thead>\n",
       "    <tr>\n",
       "      <th></th>\n",
       "      <th>species</th>\n",
       "      <th colspan=\"2\" halign=\"left\">sepal_length</th>\n",
       "    </tr>\n",
       "    <tr>\n",
       "      <th></th>\n",
       "      <th></th>\n",
       "      <th>mean</th>\n",
       "      <th>sum</th>\n",
       "    </tr>\n",
       "  </thead>\n",
       "  <tbody>\n",
       "    <tr>\n",
       "      <th>0</th>\n",
       "      <td>setosa</td>\n",
       "      <td>5.006</td>\n",
       "      <td>250.3</td>\n",
       "    </tr>\n",
       "    <tr>\n",
       "      <th>1</th>\n",
       "      <td>versicolor</td>\n",
       "      <td>5.936</td>\n",
       "      <td>296.8</td>\n",
       "    </tr>\n",
       "    <tr>\n",
       "      <th>2</th>\n",
       "      <td>virginica</td>\n",
       "      <td>6.588</td>\n",
       "      <td>329.4</td>\n",
       "    </tr>\n",
       "  </tbody>\n",
       "</table>\n",
       "</div>"
      ],
      "text/plain": [
       "      species sepal_length       \n",
       "                      mean    sum\n",
       "0      setosa        5.006  250.3\n",
       "1  versicolor        5.936  296.8\n",
       "2   virginica        6.588  329.4"
      ]
     },
     "execution_count": 197,
     "metadata": {},
     "output_type": "execute_result"
    }
   ],
   "source": [
    "(iris.groupby(by='species')\n",
    "     .agg({\"sepal_length\": [np.mean, np.sum]})\n",
    "     .reset_index())"
   ]
  },
  {
   "cell_type": "code",
   "execution_count": 145,
   "metadata": {},
   "outputs": [],
   "source": [
    "# Group by offsetting + cumulative functions\n",
    "# do sort_values(['group_name', 'value_col'], ascending=[True, True])\n",
    "output = iris.copy()\n",
    "output['shifted_petal_width'] = iris.groupby('species')['petal_width'].shift(1)\n",
    "output[output['species']=='virginica'].head()\n",
    "\n",
    "# Cumulative examples\n",
    "output['cumulative_petal_width'] = iris.groupby('species')['petal_width'].cumsum()\n",
    "output['cumprod_petal_width'] = iris.groupby('species')['petal_width'].cumprod()\n",
    "\n",
    "# Ranking\n",
    "# allows for ties, no skipping 1, 2, 2, 3\n",
    "output['petal_width_rank'] = iris.groupby('species')['petal_width'].rank(method='dense') \n",
    "# allows for ties, yes skipping 1, 2, 2, 4\n",
    "output['petal_width_rank'] = iris.groupby('species')['petal_width'].rank(method='min')  \n",
    "# no ties, first value it sees will get that number, 1, 2, 3, 4\n",
    "output['petal_width_rank'] = iris.groupby('species')['petal_width'].rank(method='first')  \n"
   ]
  },
  {
   "cell_type": "code",
   "execution_count": 146,
   "metadata": {},
   "outputs": [
    {
     "data": {
      "text/html": [
       "<div>\n",
       "<style scoped>\n",
       "    .dataframe tbody tr th:only-of-type {\n",
       "        vertical-align: middle;\n",
       "    }\n",
       "\n",
       "    .dataframe tbody tr th {\n",
       "        vertical-align: top;\n",
       "    }\n",
       "\n",
       "    .dataframe thead th {\n",
       "        text-align: right;\n",
       "    }\n",
       "</style>\n",
       "<table border=\"1\" class=\"dataframe\">\n",
       "  <thead>\n",
       "    <tr style=\"text-align: right;\">\n",
       "      <th></th>\n",
       "      <th>sepal_length</th>\n",
       "      <th>sepal_width</th>\n",
       "      <th>petal_length</th>\n",
       "      <th>petal_width</th>\n",
       "      <th>species</th>\n",
       "      <th>shifted_petal_width</th>\n",
       "      <th>cumulative_petal_width</th>\n",
       "      <th>cumprod_petal_width</th>\n",
       "      <th>petal_width_rank</th>\n",
       "    </tr>\n",
       "  </thead>\n",
       "  <tbody>\n",
       "    <tr>\n",
       "      <th>134</th>\n",
       "      <td>6.1</td>\n",
       "      <td>2.6</td>\n",
       "      <td>5.6</td>\n",
       "      <td>1.4</td>\n",
       "      <td>virginica</td>\n",
       "      <td>1.5</td>\n",
       "      <td>69.2</td>\n",
       "      <td>1.644787e+10</td>\n",
       "      <td>1.0</td>\n",
       "    </tr>\n",
       "    <tr>\n",
       "      <th>119</th>\n",
       "      <td>6.0</td>\n",
       "      <td>2.2</td>\n",
       "      <td>5.0</td>\n",
       "      <td>1.5</td>\n",
       "      <td>virginica</td>\n",
       "      <td>2.3</td>\n",
       "      <td>40.9</td>\n",
       "      <td>1.374825e+06</td>\n",
       "      <td>2.0</td>\n",
       "    </tr>\n",
       "    <tr>\n",
       "      <th>133</th>\n",
       "      <td>6.3</td>\n",
       "      <td>2.8</td>\n",
       "      <td>5.1</td>\n",
       "      <td>1.5</td>\n",
       "      <td>virginica</td>\n",
       "      <td>2.2</td>\n",
       "      <td>67.8</td>\n",
       "      <td>1.174848e+10</td>\n",
       "      <td>3.0</td>\n",
       "    </tr>\n",
       "    <tr>\n",
       "      <th>129</th>\n",
       "      <td>7.2</td>\n",
       "      <td>3.0</td>\n",
       "      <td>5.8</td>\n",
       "      <td>1.6</td>\n",
       "      <td>virginica</td>\n",
       "      <td>2.1</td>\n",
       "      <td>60.2</td>\n",
       "      <td>9.368800e+08</td>\n",
       "      <td>4.0</td>\n",
       "    </tr>\n",
       "    <tr>\n",
       "      <th>106</th>\n",
       "      <td>4.9</td>\n",
       "      <td>2.5</td>\n",
       "      <td>4.5</td>\n",
       "      <td>1.7</td>\n",
       "      <td>virginica</td>\n",
       "      <td>2.1</td>\n",
       "      <td>14.3</td>\n",
       "      <td>1.410186e+02</td>\n",
       "      <td>5.0</td>\n",
       "    </tr>\n",
       "  </tbody>\n",
       "</table>\n",
       "</div>"
      ],
      "text/plain": [
       "     sepal_length  sepal_width  petal_length  petal_width    species  \\\n",
       "134           6.1          2.6           5.6          1.4  virginica   \n",
       "119           6.0          2.2           5.0          1.5  virginica   \n",
       "133           6.3          2.8           5.1          1.5  virginica   \n",
       "129           7.2          3.0           5.8          1.6  virginica   \n",
       "106           4.9          2.5           4.5          1.7  virginica   \n",
       "\n",
       "     shifted_petal_width  cumulative_petal_width  cumprod_petal_width  \\\n",
       "134                  1.5                    69.2         1.644787e+10   \n",
       "119                  2.3                    40.9         1.374825e+06   \n",
       "133                  2.2                    67.8         1.174848e+10   \n",
       "129                  2.1                    60.2         9.368800e+08   \n",
       "106                  2.1                    14.3         1.410186e+02   \n",
       "\n",
       "     petal_width_rank  \n",
       "134               1.0  \n",
       "119               2.0  \n",
       "133               3.0  \n",
       "129               4.0  \n",
       "106               5.0  "
      ]
     },
     "execution_count": 146,
     "metadata": {},
     "output_type": "execute_result"
    }
   ],
   "source": [
    "output[output['species']=='virginica'].sort_values('petal_width_rank').head()\n"
   ]
  },
  {
   "cell_type": "code",
   "execution_count": 163,
   "metadata": {},
   "outputs": [],
   "source": [
    "#---- Window Functions ---- #\n",
    "# df.groupby()[column].window().func\n",
    "\n",
    "# expanding windows\n",
    "# Set a minimum window e.g. 3 periods, then it will grow after\n",
    "# NA, NA, NA, 3 obs, 4 obs, 5 obs etc....\n",
    "# unlike cumulative we get to set a minimum\n",
    "output = iris.copy()\n",
    "# New version on pandas requires us to reset index\n",
    "output['expanding_petal_width_mean'] = output.groupby(['species'])['petal_width'].expanding(3).mean().reset_index(drop=True)\n",
    "\n",
    "# rolling windows\n",
    "output['rolling_petal_width_mean'] = output.groupby(['species'])['petal_width'].rolling(3).mean().reset_index(drop=True)\n"
   ]
  },
  {
   "cell_type": "markdown",
   "metadata": {},
   "source": [
    "## 3. Reshaping Data"
   ]
  },
  {
   "cell_type": "code",
   "execution_count": 180,
   "metadata": {},
   "outputs": [
    {
     "data": {
      "text/html": [
       "<div>\n",
       "<style scoped>\n",
       "    .dataframe tbody tr th:only-of-type {\n",
       "        vertical-align: middle;\n",
       "    }\n",
       "\n",
       "    .dataframe tbody tr th {\n",
       "        vertical-align: top;\n",
       "    }\n",
       "\n",
       "    .dataframe thead th {\n",
       "        text-align: right;\n",
       "    }\n",
       "</style>\n",
       "<table border=\"1\" class=\"dataframe\">\n",
       "  <thead>\n",
       "    <tr style=\"text-align: right;\">\n",
       "      <th>species</th>\n",
       "      <th>group_two</th>\n",
       "      <th>setosa</th>\n",
       "      <th>versicolor</th>\n",
       "      <th>virginica</th>\n",
       "    </tr>\n",
       "  </thead>\n",
       "  <tbody>\n",
       "    <tr>\n",
       "      <th>0</th>\n",
       "      <td>A</td>\n",
       "      <td>12.3</td>\n",
       "      <td>66.3</td>\n",
       "      <td>NaN</td>\n",
       "    </tr>\n",
       "    <tr>\n",
       "      <th>1</th>\n",
       "      <td>B</td>\n",
       "      <td>NaN</td>\n",
       "      <td>NaN</td>\n",
       "      <td>101.3</td>\n",
       "    </tr>\n",
       "  </tbody>\n",
       "</table>\n",
       "</div>"
      ],
      "text/plain": [
       "species group_two  setosa  versicolor  virginica\n",
       "0               A    12.3        66.3        NaN\n",
       "1               B     NaN         NaN      101.3"
      ]
     },
     "execution_count": 180,
     "metadata": {},
     "output_type": "execute_result"
    }
   ],
   "source": [
    "# Pivot\n",
    "# From rows to columns\n",
    "# Syntax: pd.pivot_table(df, values=number_column, index=[list_of_columns_to_preserve],\n",
    "#   columns=[list_of_columns to pivot], aggfunc=np.sum)\n",
    "output = iris.copy()\n",
    "output['group_two'] = 'A'\n",
    "output.loc[output['species'] == 'virginica', 'group_two'] = 'B'\n",
    "\n",
    "pd.pivot_table(output, values='petal_width', columns=['species'], aggfunc=np.sum)\n",
    "output2 = pd.pivot_table(output, values='petal_width', index=['group_two'], columns=['species'], aggfunc=np.sum)\n",
    "output2 = output2.reset_index()\n",
    "output2"
   ]
  },
  {
   "cell_type": "code",
   "execution_count": 181,
   "metadata": {
    "scrolled": true
   },
   "outputs": [
    {
     "data": {
      "text/html": [
       "<div>\n",
       "<style scoped>\n",
       "    .dataframe tbody tr th:only-of-type {\n",
       "        vertical-align: middle;\n",
       "    }\n",
       "\n",
       "    .dataframe tbody tr th {\n",
       "        vertical-align: top;\n",
       "    }\n",
       "\n",
       "    .dataframe thead th {\n",
       "        text-align: right;\n",
       "    }\n",
       "</style>\n",
       "<table border=\"1\" class=\"dataframe\">\n",
       "  <thead>\n",
       "    <tr style=\"text-align: right;\">\n",
       "      <th></th>\n",
       "      <th>group_two</th>\n",
       "      <th>species</th>\n",
       "      <th>total_petal_width</th>\n",
       "    </tr>\n",
       "  </thead>\n",
       "  <tbody>\n",
       "    <tr>\n",
       "      <th>0</th>\n",
       "      <td>A</td>\n",
       "      <td>setosa</td>\n",
       "      <td>12.3</td>\n",
       "    </tr>\n",
       "    <tr>\n",
       "      <th>1</th>\n",
       "      <td>B</td>\n",
       "      <td>setosa</td>\n",
       "      <td>NaN</td>\n",
       "    </tr>\n",
       "    <tr>\n",
       "      <th>2</th>\n",
       "      <td>A</td>\n",
       "      <td>versicolor</td>\n",
       "      <td>66.3</td>\n",
       "    </tr>\n",
       "    <tr>\n",
       "      <th>3</th>\n",
       "      <td>B</td>\n",
       "      <td>versicolor</td>\n",
       "      <td>NaN</td>\n",
       "    </tr>\n",
       "    <tr>\n",
       "      <th>4</th>\n",
       "      <td>A</td>\n",
       "      <td>virginica</td>\n",
       "      <td>NaN</td>\n",
       "    </tr>\n",
       "    <tr>\n",
       "      <th>5</th>\n",
       "      <td>B</td>\n",
       "      <td>virginica</td>\n",
       "      <td>101.3</td>\n",
       "    </tr>\n",
       "  </tbody>\n",
       "</table>\n",
       "</div>"
      ],
      "text/plain": [
       "  group_two     species  total_petal_width\n",
       "0         A      setosa               12.3\n",
       "1         B      setosa                NaN\n",
       "2         A  versicolor               66.3\n",
       "3         B  versicolor                NaN\n",
       "4         A   virginica                NaN\n",
       "5         B   virginica              101.3"
      ]
     },
     "execution_count": 181,
     "metadata": {},
     "output_type": "execute_result"
    }
   ],
   "source": [
    "# Melt\n",
    "# From columns to rows\n",
    "# Syntax: pd.melt(df, id_vars=['group_two'],      #what you want to keep as is\n",
    "#                     value_vars = ['setosa', 'veriscolor', 'virginica']      # columns you want to unpivot\n",
    "#                     var_name='species'      # name of the new column\n",
    "#                     value_name = 'total_petal_width'   # name of the unpivoted number values \n",
    "#)\n",
    "\n",
    "pd.melt(output2, id_vars=['group_two'], value_vars=['setosa', 'versicolor', 'virginica'],\n",
    " var_name='species', value_name='total_petal_width')"
   ]
  },
  {
   "cell_type": "code",
   "execution_count": null,
   "metadata": {},
   "outputs": [],
   "source": [
    "# Concat\n",
    "# Append row (aka union all or rbind())\n"
   ]
  },
  {
   "cell_type": "markdown",
   "metadata": {},
   "source": [
    "## Date Logic"
   ]
  },
  {
   "cell_type": "code",
   "execution_count": null,
   "metadata": {},
   "outputs": [],
   "source": [
    "from datetime import datetime\n",
    "(df['created_at'] - df['prev_value']).dt.days\n",
    "# dt.months\n",
    "# dt.years\n",
    "# dt.to_period('M')"
   ]
  }
 ],
 "metadata": {
  "kernelspec": {
   "display_name": "Python 3",
   "language": "python",
   "name": "python3"
  },
  "language_info": {
   "codemirror_mode": {
    "name": "ipython",
    "version": 3
   },
   "file_extension": ".py",
   "mimetype": "text/x-python",
   "name": "python",
   "nbconvert_exporter": "python",
   "pygments_lexer": "ipython3",
   "version": "3.8.3"
  }
 },
 "nbformat": 4,
 "nbformat_minor": 4
}
